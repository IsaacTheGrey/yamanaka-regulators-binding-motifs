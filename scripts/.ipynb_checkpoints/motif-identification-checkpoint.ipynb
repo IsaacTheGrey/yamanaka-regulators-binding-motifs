{
 "cells": [
  {
   "cell_type": "markdown",
   "id": "238a04f1-700d-4d87-8578-4c6bddc6c623",
   "metadata": {},
   "source": [
    "# Environment setup"
   ]
  },
  {
   "cell_type": "code",
   "execution_count": 10,
   "id": "ace1ae50-ba95-4fb6-a9ff-304791473454",
   "metadata": {
    "scrolled": true
   },
   "outputs": [
    {
     "name": "stdout",
     "output_type": "stream",
     "text": [
      "Requirement already satisfied: pyfaidx in /home/isaac/.local/share/mamba/envs/jupyter/lib/python3.13/site-packages (0.8.1.3)\n",
      "Requirement already satisfied: Bio in /home/isaac/.local/share/mamba/envs/jupyter/lib/python3.13/site-packages (1.7.1)\n",
      "Requirement already satisfied: importlib-metadata in /home/isaac/.local/share/mamba/envs/jupyter/lib/python3.13/site-packages (from pyfaidx) (8.6.1)\n",
      "Requirement already satisfied: packaging in /home/isaac/.local/share/mamba/envs/jupyter/lib/python3.13/site-packages (from pyfaidx) (24.2)\n",
      "Requirement already satisfied: biopython>=1.80 in /home/isaac/.local/share/mamba/envs/jupyter/lib/python3.13/site-packages (from Bio) (1.85)\n",
      "Requirement already satisfied: gprofiler-official in /home/isaac/.local/share/mamba/envs/jupyter/lib/python3.13/site-packages (from Bio) (1.0.0)\n",
      "Requirement already satisfied: mygene in /home/isaac/.local/share/mamba/envs/jupyter/lib/python3.13/site-packages (from Bio) (3.2.2)\n",
      "Requirement already satisfied: pandas in /home/isaac/.local/share/mamba/envs/jupyter/lib/python3.13/site-packages (from Bio) (2.2.3)\n",
      "Requirement already satisfied: pooch in /home/isaac/.local/share/mamba/envs/jupyter/lib/python3.13/site-packages (from Bio) (1.8.2)\n",
      "Requirement already satisfied: requests in /home/isaac/.local/share/mamba/envs/jupyter/lib/python3.13/site-packages (from Bio) (2.32.3)\n",
      "Requirement already satisfied: tqdm in /home/isaac/.local/share/mamba/envs/jupyter/lib/python3.13/site-packages (from Bio) (4.67.1)\n",
      "Requirement already satisfied: numpy in /home/isaac/.local/share/mamba/envs/jupyter/lib/python3.13/site-packages (from biopython>=1.80->Bio) (2.2.4)\n",
      "Requirement already satisfied: zipp>=3.20 in /home/isaac/.local/share/mamba/envs/jupyter/lib/python3.13/site-packages (from importlib-metadata->pyfaidx) (3.21.0)\n",
      "Requirement already satisfied: biothings-client>=0.2.6 in /home/isaac/.local/share/mamba/envs/jupyter/lib/python3.13/site-packages (from mygene->Bio) (0.4.1)\n",
      "Requirement already satisfied: python-dateutil>=2.8.2 in /home/isaac/.local/share/mamba/envs/jupyter/lib/python3.13/site-packages (from pandas->Bio) (2.9.0.post0)\n",
      "Requirement already satisfied: pytz>=2020.1 in /home/isaac/.local/share/mamba/envs/jupyter/lib/python3.13/site-packages (from pandas->Bio) (2025.2)\n",
      "Requirement already satisfied: tzdata>=2022.7 in /home/isaac/.local/share/mamba/envs/jupyter/lib/python3.13/site-packages (from pandas->Bio) (2025.2)\n",
      "Requirement already satisfied: platformdirs>=2.5.0 in /home/isaac/.local/share/mamba/envs/jupyter/lib/python3.13/site-packages (from pooch->Bio) (4.3.7)\n",
      "Requirement already satisfied: charset-normalizer<4,>=2 in /home/isaac/.local/share/mamba/envs/jupyter/lib/python3.13/site-packages (from requests->Bio) (3.3.2)\n",
      "Requirement already satisfied: idna<4,>=2.5 in /home/isaac/.local/share/mamba/envs/jupyter/lib/python3.13/site-packages (from requests->Bio) (3.7)\n",
      "Requirement already satisfied: urllib3<3,>=1.21.1 in /home/isaac/.local/share/mamba/envs/jupyter/lib/python3.13/site-packages (from requests->Bio) (2.3.0)\n",
      "Requirement already satisfied: certifi>=2017.4.17 in /home/isaac/.local/share/mamba/envs/jupyter/lib/python3.13/site-packages (from requests->Bio) (2025.1.31)\n",
      "Requirement already satisfied: httpx>=0.22.0 in /home/isaac/.local/share/mamba/envs/jupyter/lib/python3.13/site-packages (from biothings-client>=0.2.6->mygene->Bio) (0.27.0)\n",
      "Requirement already satisfied: six>=1.5 in /home/isaac/.local/share/mamba/envs/jupyter/lib/python3.13/site-packages (from python-dateutil>=2.8.2->pandas->Bio) (1.17.0)\n",
      "Requirement already satisfied: anyio in /home/isaac/.local/share/mamba/envs/jupyter/lib/python3.13/site-packages (from httpx>=0.22.0->biothings-client>=0.2.6->mygene->Bio) (4.6.2)\n",
      "Requirement already satisfied: httpcore==1.* in /home/isaac/.local/share/mamba/envs/jupyter/lib/python3.13/site-packages (from httpx>=0.22.0->biothings-client>=0.2.6->mygene->Bio) (1.0.2)\n",
      "Requirement already satisfied: sniffio in /home/isaac/.local/share/mamba/envs/jupyter/lib/python3.13/site-packages (from httpx>=0.22.0->biothings-client>=0.2.6->mygene->Bio) (1.3.0)\n",
      "Requirement already satisfied: h11<0.15,>=0.13 in /home/isaac/.local/share/mamba/envs/jupyter/lib/python3.13/site-packages (from httpcore==1.*->httpx>=0.22.0->biothings-client>=0.2.6->mygene->Bio) (0.14.0)\n",
      "Note: you may need to restart the kernel to use updated packages.\n"
     ]
    }
   ],
   "source": [
    "pip install pyfaidx Bio"
   ]
  },
  {
   "cell_type": "code",
   "execution_count": 11,
   "id": "8a04910a-fbb8-46c3-97a6-a4288fcbdfce",
   "metadata": {},
   "outputs": [
    {
     "ename": "FastaNotFoundError",
     "evalue": "Cannot read FASTA from file genome.fa",
     "output_type": "error",
     "traceback": [
      "\u001b[0;31m---------------------------------------------------------------------------\u001b[0m",
      "\u001b[0;31mFileNotFoundError\u001b[0m                         Traceback (most recent call last)",
      "File \u001b[0;32m~/.local/share/mamba/envs/jupyter/lib/python3.13/site-packages/pyfaidx/__init__.py:391\u001b[0m, in \u001b[0;36mFaidx.__init__\u001b[0;34m(self, filename, indexname, default_seq, key_function, as_raw, strict_bounds, read_ahead, mutable, split_char, duplicate_action, filt_function, one_based_attributes, read_long_names, sequence_always_upper, rebuild, build_index)\u001b[0m\n\u001b[1;32m    390\u001b[0m \u001b[38;5;28;01mtry\u001b[39;00m:\n\u001b[0;32m--> 391\u001b[0m     \u001b[38;5;28mself\u001b[39m\u001b[38;5;241m.\u001b[39mfile \u001b[38;5;241m=\u001b[39m \u001b[38;5;28mopen\u001b[39m(filename, \u001b[38;5;124m'\u001b[39m\u001b[38;5;124mr+b\u001b[39m\u001b[38;5;124m'\u001b[39m \u001b[38;5;28;01mif\u001b[39;00m mutable \u001b[38;5;28;01melse\u001b[39;00m \u001b[38;5;124m'\u001b[39m\u001b[38;5;124mrb\u001b[39m\u001b[38;5;124m'\u001b[39m)\n\u001b[1;32m    392\u001b[0m \u001b[38;5;28;01mexcept\u001b[39;00m \u001b[38;5;167;01mIOError\u001b[39;00m:\n",
      "\u001b[0;31mFileNotFoundError\u001b[0m: [Errno 2] No such file or directory: 'genome.fa'",
      "\nDuring handling of the above exception, another exception occurred:\n",
      "\u001b[0;31mFastaNotFoundError\u001b[0m                        Traceback (most recent call last)",
      "Cell \u001b[0;32mIn[11], line 6\u001b[0m\n\u001b[1;32m      3\u001b[0m \u001b[38;5;28;01mfrom\u001b[39;00m \u001b[38;5;21;01mBio\u001b[39;00m\u001b[38;5;21;01m.\u001b[39;00m\u001b[38;5;21;01mSeq\u001b[39;00m \u001b[38;5;28;01mimport\u001b[39;00m Seq\n\u001b[1;32m      5\u001b[0m \u001b[38;5;66;03m# SETTINGS\u001b[39;00m\n\u001b[0;32m----> 6\u001b[0m genome \u001b[38;5;241m=\u001b[39m Fasta(\u001b[38;5;124m\"\u001b[39m\u001b[38;5;124mgenome.fa\u001b[39m\u001b[38;5;124m\"\u001b[39m)\n\u001b[1;32m      7\u001b[0m motifs \u001b[38;5;241m=\u001b[39m [\u001b[38;5;124m\"\u001b[39m\u001b[38;5;124mCACGTG\u001b[39m\u001b[38;5;124m\"\u001b[39m, \u001b[38;5;124m\"\u001b[39m\u001b[38;5;124mCAGCTG\u001b[39m\u001b[38;5;124m\"\u001b[39m]  \u001b[38;5;66;03m# list of motifs as consensus\u001b[39;00m\n\u001b[1;32m      8\u001b[0m motif_regex \u001b[38;5;241m=\u001b[39m [re\u001b[38;5;241m.\u001b[39mcompile(m) \u001b[38;5;28;01mfor\u001b[39;00m m \u001b[38;5;129;01min\u001b[39;00m motifs]\n",
      "File \u001b[0;32m~/.local/share/mamba/envs/jupyter/lib/python3.13/site-packages/pyfaidx/__init__.py:1090\u001b[0m, in \u001b[0;36mFasta.__init__\u001b[0;34m(self, filename, indexname, default_seq, key_function, as_raw, strict_bounds, read_ahead, mutable, split_char, filt_function, one_based_attributes, read_long_names, duplicate_action, sequence_always_upper, rebuild, build_index)\u001b[0m\n\u001b[1;32m   1084\u001b[0m \u001b[38;5;250m\u001b[39m\u001b[38;5;124;03m\"\"\"\u001b[39;00m\n\u001b[1;32m   1085\u001b[0m \u001b[38;5;124;03mAn object that provides a pygr compatible interface.\u001b[39;00m\n\u001b[1;32m   1086\u001b[0m \u001b[38;5;124;03mfilename:  name of fasta file or fsspec.core.OpenFile instance\u001b[39;00m\n\u001b[1;32m   1087\u001b[0m \u001b[38;5;124;03mindexname: name of index file or fsspec.core.OpenFile instance\u001b[39;00m\n\u001b[1;32m   1088\u001b[0m \u001b[38;5;124;03m\"\"\"\u001b[39;00m\n\u001b[1;32m   1089\u001b[0m \u001b[38;5;28mself\u001b[39m\u001b[38;5;241m.\u001b[39mmutable \u001b[38;5;241m=\u001b[39m mutable\n\u001b[0;32m-> 1090\u001b[0m \u001b[38;5;28mself\u001b[39m\u001b[38;5;241m.\u001b[39mfaidx \u001b[38;5;241m=\u001b[39m Faidx(\n\u001b[1;32m   1091\u001b[0m     filename,\n\u001b[1;32m   1092\u001b[0m     indexname\u001b[38;5;241m=\u001b[39mindexname,\n\u001b[1;32m   1093\u001b[0m     key_function\u001b[38;5;241m=\u001b[39mkey_function,\n\u001b[1;32m   1094\u001b[0m     as_raw\u001b[38;5;241m=\u001b[39mas_raw,\n\u001b[1;32m   1095\u001b[0m     default_seq\u001b[38;5;241m=\u001b[39mdefault_seq,\n\u001b[1;32m   1096\u001b[0m     strict_bounds\u001b[38;5;241m=\u001b[39mstrict_bounds,\n\u001b[1;32m   1097\u001b[0m     read_ahead\u001b[38;5;241m=\u001b[39mread_ahead,\n\u001b[1;32m   1098\u001b[0m     mutable\u001b[38;5;241m=\u001b[39mmutable,\n\u001b[1;32m   1099\u001b[0m     split_char\u001b[38;5;241m=\u001b[39msplit_char,\n\u001b[1;32m   1100\u001b[0m     filt_function\u001b[38;5;241m=\u001b[39mfilt_function,\n\u001b[1;32m   1101\u001b[0m     one_based_attributes\u001b[38;5;241m=\u001b[39mone_based_attributes,\n\u001b[1;32m   1102\u001b[0m     read_long_names\u001b[38;5;241m=\u001b[39mread_long_names,\n\u001b[1;32m   1103\u001b[0m     duplicate_action\u001b[38;5;241m=\u001b[39mduplicate_action,\n\u001b[1;32m   1104\u001b[0m     sequence_always_upper\u001b[38;5;241m=\u001b[39msequence_always_upper,\n\u001b[1;32m   1105\u001b[0m     rebuild\u001b[38;5;241m=\u001b[39mrebuild,\n\u001b[1;32m   1106\u001b[0m     build_index\u001b[38;5;241m=\u001b[39mbuild_index)\n\u001b[1;32m   1108\u001b[0m \u001b[38;5;28mself\u001b[39m\u001b[38;5;241m.\u001b[39mfilename \u001b[38;5;241m=\u001b[39m \u001b[38;5;28mself\u001b[39m\u001b[38;5;241m.\u001b[39mfaidx\u001b[38;5;241m.\u001b[39mfilename\n\u001b[1;32m   1110\u001b[0m _record_constructor \u001b[38;5;241m=\u001b[39m MutableFastaRecord \u001b[38;5;28;01mif\u001b[39;00m \u001b[38;5;28mself\u001b[39m\u001b[38;5;241m.\u001b[39mmutable \u001b[38;5;28;01melse\u001b[39;00m FastaRecord\n",
      "File \u001b[0;32m~/.local/share/mamba/envs/jupyter/lib/python3.13/site-packages/pyfaidx/__init__.py:393\u001b[0m, in \u001b[0;36mFaidx.__init__\u001b[0;34m(self, filename, indexname, default_seq, key_function, as_raw, strict_bounds, read_ahead, mutable, split_char, duplicate_action, filt_function, one_based_attributes, read_long_names, sequence_always_upper, rebuild, build_index)\u001b[0m\n\u001b[1;32m    391\u001b[0m         \u001b[38;5;28mself\u001b[39m\u001b[38;5;241m.\u001b[39mfile \u001b[38;5;241m=\u001b[39m \u001b[38;5;28mopen\u001b[39m(filename, \u001b[38;5;124m'\u001b[39m\u001b[38;5;124mr+b\u001b[39m\u001b[38;5;124m'\u001b[39m \u001b[38;5;28;01mif\u001b[39;00m mutable \u001b[38;5;28;01melse\u001b[39;00m \u001b[38;5;124m'\u001b[39m\u001b[38;5;124mrb\u001b[39m\u001b[38;5;124m'\u001b[39m)\n\u001b[1;32m    392\u001b[0m     \u001b[38;5;28;01mexcept\u001b[39;00m \u001b[38;5;167;01mIOError\u001b[39;00m:\n\u001b[0;32m--> 393\u001b[0m         \u001b[38;5;28;01mraise\u001b[39;00m FastaNotFoundError(\u001b[38;5;124m\"\u001b[39m\u001b[38;5;124mCannot read FASTA from file \u001b[39m\u001b[38;5;132;01m%s\u001b[39;00m\u001b[38;5;124m\"\u001b[39m \u001b[38;5;241m%\u001b[39m filename)\n\u001b[1;32m    394\u001b[0m     \u001b[38;5;28mself\u001b[39m\u001b[38;5;241m.\u001b[39m_fs \u001b[38;5;241m=\u001b[39m \u001b[38;5;28;01mNone\u001b[39;00m\n\u001b[1;32m    396\u001b[0m \u001b[38;5;28;01melse\u001b[39;00m:\n",
      "\u001b[0;31mFastaNotFoundError\u001b[0m: Cannot read FASTA from file genome.fa"
     ]
    }
   ],
   "source": [
    "import re\n",
    "from pyfaidx import Fasta\n",
    "from Bio.Seq import Seq\n",
    "\n",
    "# SETTINGS\n",
    "genome = Fasta(\"genome.fa\")\n",
    "motifs = [\"CACGTG\", \"CAGCTG\"]  # list of motifs as consensus\n",
    "motif_regex = [re.compile(m) for m in motifs]\n",
    "\n",
    "# Example locus: (gene, chrom, center position, window)\n",
    "targets = [\n",
    "    (\"Oct4\", \"scaffold_3\", 123456, 10000),\n",
    "    (\"Sox2\", \"scaffold_2\", 203456, 10000),\n",
    "]\n",
    "\n",
    "for gene, chrom, center, window in targets:\n",
    "    seq_region = genome[chrom][center - window : center + window].seq.upper()\n",
    "    rev_comp = str(Seq(seq_region).reverse_complement())\n",
    "\n",
    "    for m, rx in zip(motifs, motif_regex):\n",
    "        # Forward strand\n",
    "        for match in rx.finditer(seq_region):\n",
    "            print(f\"{gene}\\t{chrom}\\t+\\t{match.start() + center - window}\\t{m}\")\n",
    "\n",
    "        # Reverse strand\n",
    "        for match in rx.finditer(rev_comp):\n",
    "            print(f\"{gene}\\t{chrom}\\t-\\t{center + window - match.start() - 1}\\t{m}\")\n"
   ]
  },
  {
   "cell_type": "code",
   "execution_count": null,
   "id": "e7116a00-95a2-4f79-87d9-327caca5ffaf",
   "metadata": {},
   "outputs": [],
   "source": []
  }
 ],
 "metadata": {
  "kernelspec": {
   "display_name": "Python 3 (ipykernel)",
   "language": "python",
   "name": "python3"
  },
  "language_info": {
   "codemirror_mode": {
    "name": "ipython",
    "version": 3
   },
   "file_extension": ".py",
   "mimetype": "text/x-python",
   "name": "python",
   "nbconvert_exporter": "python",
   "pygments_lexer": "ipython3",
   "version": "3.13.2"
  }
 },
 "nbformat": 4,
 "nbformat_minor": 5
}
